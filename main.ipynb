{
 "cells": [
  {
   "cell_type": "code",
   "execution_count": 1,
   "metadata": {
    "collapsed": true
   },
   "outputs": [],
   "source": [
    "import os\n",
    "import pandas as pd\n",
    "import matplotlib.pyplot as plt\n",
    "import torch\n",
    "from torch.utils.data import Dataset, DataLoader\n",
    "from torchvision import transforms, datasets\n",
    "from torchvision.io import read_image\n",
    "from tqdm import tqdm\n",
    "\n",
    "\n",
    "data_root = os.path.abspath(os.path.join(os.getcwd(), \"archive\"))\n",
    "train_image_root = os.path.join(data_root, \"Train Images 13440x32x32/train\")\n",
    "test_image_root = os.path.join(data_root, \"Test Images 3360x32x32/test\")\n",
    "assert os.path.exists(train_image_root), \"{} path does not exist\".format(train_image_root)\n",
    "assert os.path.exists(test_image_root), \"{} path does not exist\".format(test_image_root)"
   ]
  },
  {
   "cell_type": "code",
   "execution_count": 25,
   "outputs": [],
   "source": [
    "class ArabicCharactersDataset(Dataset):\n",
    "    def __init__(self, img_dir, transform=None, target_transform=None):\n",
    "        self.images_dir = img_dir\n",
    "        self.transform = transform\n",
    "        self.target_transform = target_transform\n",
    "        assert os.path.exists(self.images_dir), \"{} path does not exist\".format(self.images_dir)\n",
    "        self.images_name = os.listdir(self.images_dir)\n",
    "\n",
    "    def __len__(self):\n",
    "        return len(self.images_name)\n",
    "\n",
    "    def __getitem__(self, idx):\n",
    "        img_name = self.images_name[idx]\n",
    "        img_path = os.path.join(self.images_dir, img_name)\n",
    "        img = read_image(img_path)\n",
    "        img = img.byte()\n",
    "        print(img.dtype)\n",
    "        img_name = img_name[:-4]    # remove suffix\n",
    "        label = img_name.split('_')[-1]\n",
    "        label = int(label)\n",
    "        if self.transform:\n",
    "            img = self.transform(img)\n",
    "        if self.target_transform:\n",
    "            label = self.target_transform(label)\n",
    "        return img, label"
   ],
   "metadata": {
    "collapsed": false,
    "pycharm": {
     "name": "#%%\n"
    }
   }
  },
  {
   "cell_type": "code",
   "execution_count": 26,
   "outputs": [
    {
     "name": "stdout",
     "output_type": "stream",
     "text": [
      "torch.uint8\n",
      "torch.uint8\n",
      "torch.uint8\n",
      "torch.uint8\n",
      "torch.uint8\n",
      "torch.uint8\n",
      "torch.uint8\n",
      "torch.uint8\n",
      "torch.uint8\n",
      "torch.uint8\n",
      "torch.uint8\n",
      "torch.uint8\n",
      "torch.uint8\n",
      "torch.uint8\n",
      "torch.uint8\n",
      "torch.uint8\n",
      "torch.uint8\n",
      "torch.uint8\n",
      "torch.uint8\n",
      "torch.uint8\n",
      "torch.uint8\n",
      "torch.uint8\n",
      "torch.uint8\n",
      "torch.uint8\n",
      "torch.uint8\n",
      "torch.uint8\n",
      "torch.uint8\n",
      "torch.uint8\n",
      "torch.uint8\n",
      "torch.uint8\n",
      "torch.uint8\n",
      "torch.uint8\n",
      "torch.uint8\n",
      "torch.uint8\n",
      "torch.uint8\n",
      "torch.uint8\n",
      "torch.uint8\n",
      "torch.uint8\n",
      "torch.uint8\n",
      "torch.uint8\n",
      "torch.uint8\n",
      "torch.uint8\n",
      "torch.uint8\n",
      "torch.uint8\n",
      "torch.uint8\n",
      "torch.uint8\n",
      "torch.uint8\n",
      "torch.uint8\n",
      "torch.uint8\n",
      "torch.uint8\n",
      "torch.uint8\n",
      "torch.uint8\n",
      "torch.uint8\n",
      "torch.uint8\n",
      "torch.uint8\n",
      "torch.uint8\n",
      "torch.uint8\n",
      "torch.uint8\n",
      "torch.uint8\n",
      "torch.uint8\n",
      "torch.uint8\n",
      "torch.uint8\n",
      "torch.uint8\n",
      "torch.uint8\n",
      "Feature batch shape: torch.uint8\n",
      "Labels batch shape: torch.Size([64])\n",
      "torch.Size([64, 1, 32, 32])\n",
      "Label: 3\n"
     ]
    },
    {
     "data": {
      "text/plain": "<Figure size 432x288 with 1 Axes>",
      "image/png": "[encoded data removed]"
     },
     "metadata": {
      "needs_background": "light"
     },
     "output_type": "display_data"
    }
   ],
   "source": [
    "train_data = ArabicCharactersDataset(train_image_root)\n",
    "test_data = ArabicCharactersDataset(test_image_root)\n",
    "\n",
    "train_dataloader = DataLoader(train_data, batch_size=64, shuffle=True)\n",
    "test_dataloader = DataLoader(test_data, batch_size=64, shuffle=True)\n",
    "\n",
    "train_features, train_labels = next(iter(train_dataloader))\n",
    "print(f\"Feature batch shape: {train_features.dtype}\")\n",
    "print(f\"Labels batch shape: {train_labels.size()}\")\n",
    "print(train_features.shape)\n",
    "img = train_features[0].squeeze()\n",
    "label = train_labels[0]\n",
    "plt.imshow(img, cmap=\"gray\")\n",
    "plt.show()\n",
    "print(f\"Label: {label}\")"
   ],
   "metadata": {
    "collapsed": false,
    "pycharm": {
     "name": "#%%\n"
    }
   }
  }
 ],
 "metadata": {
  "kernelspec": {
   "display_name": "Python 3",
   "language": "python",
   "name": "python3"
  },
  "language_info": {
   "codemirror_mode": {
    "name": "ipython",
    "version": 2
   },
   "file_extension": ".py",
   "mimetype": "text/x-python",
   "name": "python",
   "nbconvert_exporter": "python",
   "pygments_lexer": "ipython2",
   "version": "2.7.6"
  }
 },
 "nbformat": 4,
 "nbformat_minor": 0
}